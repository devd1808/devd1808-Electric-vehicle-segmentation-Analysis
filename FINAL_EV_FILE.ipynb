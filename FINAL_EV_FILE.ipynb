{
 "cells": [
  {
   "cell_type": "code",
   "execution_count": 1,
   "id": "e2b196ed",
   "metadata": {
    "id": "e2b196ed"
   },
   "outputs": [],
   "source": [
    "import pandas as pd"
   ]
  },
  {
   "cell_type": "code",
   "execution_count": 2,
   "id": "21ed8a1a",
   "metadata": {
    "id": "21ed8a1a"
   },
   "outputs": [],
   "source": [
    "import numpy as np"
   ]
  },
  {
   "cell_type": "code",
   "execution_count": 3,
   "id": "3bfa05a7",
   "metadata": {
    "id": "3bfa05a7"
   },
   "outputs": [],
   "source": [
    "import matplotlib.pyplot as plt\n",
    "import seaborn as sns"
   ]
  },
  {
   "cell_type": "code",
   "execution_count": 6,
   "id": "77d16a67",
   "metadata": {
    "id": "77d16a67"
   },
   "outputs": [
    {
     "ename": "FileNotFoundError",
     "evalue": "[Errno 2] No such file or directory: 'ElectricCarData_Clean.csv'",
     "output_type": "error",
     "traceback": [
      "\u001b[1;31m---------------------------------------------------------------------------\u001b[0m",
      "\u001b[1;31mFileNotFoundError\u001b[0m                         Traceback (most recent call last)",
      "\u001b[1;32mC:\\Users\\DEVEND~1\\AppData\\Local\\Temp/ipykernel_12204/2409843342.py\u001b[0m in \u001b[0;36m<module>\u001b[1;34m\u001b[0m\n\u001b[1;32m----> 1\u001b[1;33m \u001b[0mdf\u001b[0m \u001b[1;33m=\u001b[0m \u001b[0mpd\u001b[0m\u001b[1;33m.\u001b[0m\u001b[0mread_csv\u001b[0m\u001b[1;33m(\u001b[0m\u001b[1;34m'ElectricCarData_Clean.csv'\u001b[0m\u001b[1;33m)\u001b[0m\u001b[1;33m\u001b[0m\u001b[1;33m\u001b[0m\u001b[0m\n\u001b[0m",
      "\u001b[1;32mD:\\Annaconda\\lib\\site-packages\\pandas\\util\\_decorators.py\u001b[0m in \u001b[0;36mwrapper\u001b[1;34m(*args, **kwargs)\u001b[0m\n\u001b[0;32m    309\u001b[0m                     \u001b[0mstacklevel\u001b[0m\u001b[1;33m=\u001b[0m\u001b[0mstacklevel\u001b[0m\u001b[1;33m,\u001b[0m\u001b[1;33m\u001b[0m\u001b[1;33m\u001b[0m\u001b[0m\n\u001b[0;32m    310\u001b[0m                 )\n\u001b[1;32m--> 311\u001b[1;33m             \u001b[1;32mreturn\u001b[0m \u001b[0mfunc\u001b[0m\u001b[1;33m(\u001b[0m\u001b[1;33m*\u001b[0m\u001b[0margs\u001b[0m\u001b[1;33m,\u001b[0m \u001b[1;33m**\u001b[0m\u001b[0mkwargs\u001b[0m\u001b[1;33m)\u001b[0m\u001b[1;33m\u001b[0m\u001b[1;33m\u001b[0m\u001b[0m\n\u001b[0m\u001b[0;32m    312\u001b[0m \u001b[1;33m\u001b[0m\u001b[0m\n\u001b[0;32m    313\u001b[0m         \u001b[1;32mreturn\u001b[0m \u001b[0mwrapper\u001b[0m\u001b[1;33m\u001b[0m\u001b[1;33m\u001b[0m\u001b[0m\n",
      "\u001b[1;32mD:\\Annaconda\\lib\\site-packages\\pandas\\io\\parsers\\readers.py\u001b[0m in \u001b[0;36mread_csv\u001b[1;34m(filepath_or_buffer, sep, delimiter, header, names, index_col, usecols, squeeze, prefix, mangle_dupe_cols, dtype, engine, converters, true_values, false_values, skipinitialspace, skiprows, skipfooter, nrows, na_values, keep_default_na, na_filter, verbose, skip_blank_lines, parse_dates, infer_datetime_format, keep_date_col, date_parser, dayfirst, cache_dates, iterator, chunksize, compression, thousands, decimal, lineterminator, quotechar, quoting, doublequote, escapechar, comment, encoding, encoding_errors, dialect, error_bad_lines, warn_bad_lines, on_bad_lines, delim_whitespace, low_memory, memory_map, float_precision, storage_options)\u001b[0m\n\u001b[0;32m    584\u001b[0m     \u001b[0mkwds\u001b[0m\u001b[1;33m.\u001b[0m\u001b[0mupdate\u001b[0m\u001b[1;33m(\u001b[0m\u001b[0mkwds_defaults\u001b[0m\u001b[1;33m)\u001b[0m\u001b[1;33m\u001b[0m\u001b[1;33m\u001b[0m\u001b[0m\n\u001b[0;32m    585\u001b[0m \u001b[1;33m\u001b[0m\u001b[0m\n\u001b[1;32m--> 586\u001b[1;33m     \u001b[1;32mreturn\u001b[0m \u001b[0m_read\u001b[0m\u001b[1;33m(\u001b[0m\u001b[0mfilepath_or_buffer\u001b[0m\u001b[1;33m,\u001b[0m \u001b[0mkwds\u001b[0m\u001b[1;33m)\u001b[0m\u001b[1;33m\u001b[0m\u001b[1;33m\u001b[0m\u001b[0m\n\u001b[0m\u001b[0;32m    587\u001b[0m \u001b[1;33m\u001b[0m\u001b[0m\n\u001b[0;32m    588\u001b[0m \u001b[1;33m\u001b[0m\u001b[0m\n",
      "\u001b[1;32mD:\\Annaconda\\lib\\site-packages\\pandas\\io\\parsers\\readers.py\u001b[0m in \u001b[0;36m_read\u001b[1;34m(filepath_or_buffer, kwds)\u001b[0m\n\u001b[0;32m    480\u001b[0m \u001b[1;33m\u001b[0m\u001b[0m\n\u001b[0;32m    481\u001b[0m     \u001b[1;31m# Create the parser.\u001b[0m\u001b[1;33m\u001b[0m\u001b[1;33m\u001b[0m\u001b[0m\n\u001b[1;32m--> 482\u001b[1;33m     \u001b[0mparser\u001b[0m \u001b[1;33m=\u001b[0m \u001b[0mTextFileReader\u001b[0m\u001b[1;33m(\u001b[0m\u001b[0mfilepath_or_buffer\u001b[0m\u001b[1;33m,\u001b[0m \u001b[1;33m**\u001b[0m\u001b[0mkwds\u001b[0m\u001b[1;33m)\u001b[0m\u001b[1;33m\u001b[0m\u001b[1;33m\u001b[0m\u001b[0m\n\u001b[0m\u001b[0;32m    483\u001b[0m \u001b[1;33m\u001b[0m\u001b[0m\n\u001b[0;32m    484\u001b[0m     \u001b[1;32mif\u001b[0m \u001b[0mchunksize\u001b[0m \u001b[1;32mor\u001b[0m \u001b[0miterator\u001b[0m\u001b[1;33m:\u001b[0m\u001b[1;33m\u001b[0m\u001b[1;33m\u001b[0m\u001b[0m\n",
      "\u001b[1;32mD:\\Annaconda\\lib\\site-packages\\pandas\\io\\parsers\\readers.py\u001b[0m in \u001b[0;36m__init__\u001b[1;34m(self, f, engine, **kwds)\u001b[0m\n\u001b[0;32m    809\u001b[0m             \u001b[0mself\u001b[0m\u001b[1;33m.\u001b[0m\u001b[0moptions\u001b[0m\u001b[1;33m[\u001b[0m\u001b[1;34m\"has_index_names\"\u001b[0m\u001b[1;33m]\u001b[0m \u001b[1;33m=\u001b[0m \u001b[0mkwds\u001b[0m\u001b[1;33m[\u001b[0m\u001b[1;34m\"has_index_names\"\u001b[0m\u001b[1;33m]\u001b[0m\u001b[1;33m\u001b[0m\u001b[1;33m\u001b[0m\u001b[0m\n\u001b[0;32m    810\u001b[0m \u001b[1;33m\u001b[0m\u001b[0m\n\u001b[1;32m--> 811\u001b[1;33m         \u001b[0mself\u001b[0m\u001b[1;33m.\u001b[0m\u001b[0m_engine\u001b[0m \u001b[1;33m=\u001b[0m \u001b[0mself\u001b[0m\u001b[1;33m.\u001b[0m\u001b[0m_make_engine\u001b[0m\u001b[1;33m(\u001b[0m\u001b[0mself\u001b[0m\u001b[1;33m.\u001b[0m\u001b[0mengine\u001b[0m\u001b[1;33m)\u001b[0m\u001b[1;33m\u001b[0m\u001b[1;33m\u001b[0m\u001b[0m\n\u001b[0m\u001b[0;32m    812\u001b[0m \u001b[1;33m\u001b[0m\u001b[0m\n\u001b[0;32m    813\u001b[0m     \u001b[1;32mdef\u001b[0m \u001b[0mclose\u001b[0m\u001b[1;33m(\u001b[0m\u001b[0mself\u001b[0m\u001b[1;33m)\u001b[0m\u001b[1;33m:\u001b[0m\u001b[1;33m\u001b[0m\u001b[1;33m\u001b[0m\u001b[0m\n",
      "\u001b[1;32mD:\\Annaconda\\lib\\site-packages\\pandas\\io\\parsers\\readers.py\u001b[0m in \u001b[0;36m_make_engine\u001b[1;34m(self, engine)\u001b[0m\n\u001b[0;32m   1038\u001b[0m             )\n\u001b[0;32m   1039\u001b[0m         \u001b[1;31m# error: Too many arguments for \"ParserBase\"\u001b[0m\u001b[1;33m\u001b[0m\u001b[1;33m\u001b[0m\u001b[0m\n\u001b[1;32m-> 1040\u001b[1;33m         \u001b[1;32mreturn\u001b[0m \u001b[0mmapping\u001b[0m\u001b[1;33m[\u001b[0m\u001b[0mengine\u001b[0m\u001b[1;33m]\u001b[0m\u001b[1;33m(\u001b[0m\u001b[0mself\u001b[0m\u001b[1;33m.\u001b[0m\u001b[0mf\u001b[0m\u001b[1;33m,\u001b[0m \u001b[1;33m**\u001b[0m\u001b[0mself\u001b[0m\u001b[1;33m.\u001b[0m\u001b[0moptions\u001b[0m\u001b[1;33m)\u001b[0m  \u001b[1;31m# type: ignore[call-arg]\u001b[0m\u001b[1;33m\u001b[0m\u001b[1;33m\u001b[0m\u001b[0m\n\u001b[0m\u001b[0;32m   1041\u001b[0m \u001b[1;33m\u001b[0m\u001b[0m\n\u001b[0;32m   1042\u001b[0m     \u001b[1;32mdef\u001b[0m \u001b[0m_failover_to_python\u001b[0m\u001b[1;33m(\u001b[0m\u001b[0mself\u001b[0m\u001b[1;33m)\u001b[0m\u001b[1;33m:\u001b[0m\u001b[1;33m\u001b[0m\u001b[1;33m\u001b[0m\u001b[0m\n",
      "\u001b[1;32mD:\\Annaconda\\lib\\site-packages\\pandas\\io\\parsers\\c_parser_wrapper.py\u001b[0m in \u001b[0;36m__init__\u001b[1;34m(self, src, **kwds)\u001b[0m\n\u001b[0;32m     49\u001b[0m \u001b[1;33m\u001b[0m\u001b[0m\n\u001b[0;32m     50\u001b[0m         \u001b[1;31m# open handles\u001b[0m\u001b[1;33m\u001b[0m\u001b[1;33m\u001b[0m\u001b[0m\n\u001b[1;32m---> 51\u001b[1;33m         \u001b[0mself\u001b[0m\u001b[1;33m.\u001b[0m\u001b[0m_open_handles\u001b[0m\u001b[1;33m(\u001b[0m\u001b[0msrc\u001b[0m\u001b[1;33m,\u001b[0m \u001b[0mkwds\u001b[0m\u001b[1;33m)\u001b[0m\u001b[1;33m\u001b[0m\u001b[1;33m\u001b[0m\u001b[0m\n\u001b[0m\u001b[0;32m     52\u001b[0m         \u001b[1;32massert\u001b[0m \u001b[0mself\u001b[0m\u001b[1;33m.\u001b[0m\u001b[0mhandles\u001b[0m \u001b[1;32mis\u001b[0m \u001b[1;32mnot\u001b[0m \u001b[1;32mNone\u001b[0m\u001b[1;33m\u001b[0m\u001b[1;33m\u001b[0m\u001b[0m\n\u001b[0;32m     53\u001b[0m \u001b[1;33m\u001b[0m\u001b[0m\n",
      "\u001b[1;32mD:\\Annaconda\\lib\\site-packages\\pandas\\io\\parsers\\base_parser.py\u001b[0m in \u001b[0;36m_open_handles\u001b[1;34m(self, src, kwds)\u001b[0m\n\u001b[0;32m    220\u001b[0m         \u001b[0mLet\u001b[0m \u001b[0mthe\u001b[0m \u001b[0mreaders\u001b[0m \u001b[0mopen\u001b[0m \u001b[0mIOHandles\u001b[0m \u001b[0mafter\u001b[0m \u001b[0mthey\u001b[0m \u001b[0mare\u001b[0m \u001b[0mdone\u001b[0m \u001b[1;32mwith\u001b[0m \u001b[0mtheir\u001b[0m \u001b[0mpotential\u001b[0m \u001b[0mraises\u001b[0m\u001b[1;33m.\u001b[0m\u001b[1;33m\u001b[0m\u001b[1;33m\u001b[0m\u001b[0m\n\u001b[0;32m    221\u001b[0m         \"\"\"\n\u001b[1;32m--> 222\u001b[1;33m         self.handles = get_handle(\n\u001b[0m\u001b[0;32m    223\u001b[0m             \u001b[0msrc\u001b[0m\u001b[1;33m,\u001b[0m\u001b[1;33m\u001b[0m\u001b[1;33m\u001b[0m\u001b[0m\n\u001b[0;32m    224\u001b[0m             \u001b[1;34m\"r\"\u001b[0m\u001b[1;33m,\u001b[0m\u001b[1;33m\u001b[0m\u001b[1;33m\u001b[0m\u001b[0m\n",
      "\u001b[1;32mD:\\Annaconda\\lib\\site-packages\\pandas\\io\\common.py\u001b[0m in \u001b[0;36mget_handle\u001b[1;34m(path_or_buf, mode, encoding, compression, memory_map, is_text, errors, storage_options)\u001b[0m\n\u001b[0;32m    700\u001b[0m         \u001b[1;32mif\u001b[0m \u001b[0mioargs\u001b[0m\u001b[1;33m.\u001b[0m\u001b[0mencoding\u001b[0m \u001b[1;32mand\u001b[0m \u001b[1;34m\"b\"\u001b[0m \u001b[1;32mnot\u001b[0m \u001b[1;32min\u001b[0m \u001b[0mioargs\u001b[0m\u001b[1;33m.\u001b[0m\u001b[0mmode\u001b[0m\u001b[1;33m:\u001b[0m\u001b[1;33m\u001b[0m\u001b[1;33m\u001b[0m\u001b[0m\n\u001b[0;32m    701\u001b[0m             \u001b[1;31m# Encoding\u001b[0m\u001b[1;33m\u001b[0m\u001b[1;33m\u001b[0m\u001b[0m\n\u001b[1;32m--> 702\u001b[1;33m             handle = open(\n\u001b[0m\u001b[0;32m    703\u001b[0m                 \u001b[0mhandle\u001b[0m\u001b[1;33m,\u001b[0m\u001b[1;33m\u001b[0m\u001b[1;33m\u001b[0m\u001b[0m\n\u001b[0;32m    704\u001b[0m                 \u001b[0mioargs\u001b[0m\u001b[1;33m.\u001b[0m\u001b[0mmode\u001b[0m\u001b[1;33m,\u001b[0m\u001b[1;33m\u001b[0m\u001b[1;33m\u001b[0m\u001b[0m\n",
      "\u001b[1;31mFileNotFoundError\u001b[0m: [Errno 2] No such file or directory: 'ElectricCarData_Clean.csv'"
     ]
    }
   ],
   "source": [
    "df = pd.read_csv('ElectricCarData_Clean.csv')"
   ]
  },
  {
   "cell_type": "code",
   "execution_count": null,
   "id": "eab1f379",
   "metadata": {
    "colab": {
     "base_uri": "https://localhost:8080/",
     "height": 424
    },
    "id": "eab1f379",
    "outputId": "ed802d03-4c63-4b10-d754-58174fe9dc04"
   },
   "outputs": [],
   "source": [
    "df"
   ]
  },
  {
   "cell_type": "markdown",
   "id": "d7dfe7c3",
   "metadata": {
    "id": "d7dfe7c3"
   },
   "source": [
    "# Checking if Null Values are present "
   ]
  },
  {
   "cell_type": "code",
   "execution_count": null,
   "id": "de4bc2a6",
   "metadata": {
    "colab": {
     "base_uri": "https://localhost:8080/"
    },
    "id": "de4bc2a6",
    "outputId": "2a1ca114-2f0f-49fb-d822-73194e5ab5f3"
   },
   "outputs": [],
   "source": [
    "df.isna().sum()"
   ]
  },
  {
   "cell_type": "markdown",
   "id": "37d5b427",
   "metadata": {
    "id": "37d5b427"
   },
   "source": []
  },
  {
   "cell_type": "code",
   "execution_count": null,
   "id": "3cbb4448",
   "metadata": {
    "colab": {
     "base_uri": "https://localhost:8080/"
    },
    "id": "3cbb4448",
    "outputId": "929b6a78-c245-4a2b-d853-b8a90b6c93a9"
   },
   "outputs": [],
   "source": [
    "df.info()"
   ]
  },
  {
   "cell_type": "code",
   "execution_count": null,
   "id": "a3b9c293",
   "metadata": {
    "colab": {
     "base_uri": "https://localhost:8080/"
    },
    "id": "a3b9c293",
    "outputId": "703dda9d-8879-4a25-8dce-405ef6c021e2"
   },
   "outputs": [],
   "source": [
    "df['PowerTrain'].unique()"
   ]
  },
  {
   "cell_type": "code",
   "execution_count": null,
   "id": "7d3e8a09",
   "metadata": {
    "colab": {
     "base_uri": "https://localhost:8080/"
    },
    "id": "7d3e8a09",
    "outputId": "abd1ce07-72c5-4323-be39-dd0d3eeb8f80"
   },
   "outputs": [],
   "source": [
    "df['PlugType'].unique()"
   ]
  },
  {
   "cell_type": "code",
   "execution_count": null,
   "id": "9155ce3c",
   "metadata": {
    "colab": {
     "base_uri": "https://localhost:8080/"
    },
    "id": "9155ce3c",
    "outputId": "490a84f9-8901-4bb9-afdd-b9932a886bba"
   },
   "outputs": [],
   "source": [
    "df['BodyStyle'].unique()"
   ]
  },
  {
   "cell_type": "code",
   "execution_count": null,
   "id": "896279a2",
   "metadata": {
    "colab": {
     "base_uri": "https://localhost:8080/"
    },
    "id": "896279a2",
    "outputId": "0a2ead7d-8898-4414-dee6-ff29f52d5e1e"
   },
   "outputs": [],
   "source": [
    "df['Segment'].unique()"
   ]
  },
  {
   "cell_type": "code",
   "execution_count": null,
   "id": "8aa7e5f5",
   "metadata": {
    "colab": {
     "base_uri": "https://localhost:8080/"
    },
    "id": "8aa7e5f5",
    "outputId": "09017eb8-5bd6-457c-b825-24a8cc6bb6b1"
   },
   "outputs": [],
   "source": [
    "df['RapidCharge'].unique()"
   ]
  },
  {
   "cell_type": "code",
   "execution_count": null,
   "id": "992af9c5",
   "metadata": {
    "colab": {
     "base_uri": "https://localhost:8080/"
    },
    "id": "992af9c5",
    "outputId": "9fb4577a-0605-4616-c453-32909a870c7c"
   },
   "outputs": [],
   "source": [
    "df['FastCharge_KmH'].unique()"
   ]
  },
  {
   "cell_type": "markdown",
   "id": "e561d8ea",
   "metadata": {
    "id": "e561d8ea"
   },
   "source": [
    "# There were hypen present in FastCharge_KmH so we replaced it with mean of the attribute\n"
   ]
  },
  {
   "cell_type": "code",
   "execution_count": null,
   "id": "1851a6cc",
   "metadata": {
    "id": "1851a6cc"
   },
   "outputs": [],
   "source": [
    "df['FastCharge_KmH']=df['FastCharge_KmH'].str.replace('-','0')"
   ]
  },
  {
   "cell_type": "code",
   "execution_count": null,
   "id": "7e31f113",
   "metadata": {
    "id": "7e31f113"
   },
   "outputs": [],
   "source": [
    "df['FastCharge_KmH']=df['FastCharge_KmH'].astype(float)"
   ]
  },
  {
   "cell_type": "code",
   "execution_count": null,
   "id": "56833f1c",
   "metadata": {
    "colab": {
     "base_uri": "https://localhost:8080/"
    },
    "id": "56833f1c",
    "outputId": "1583ae1e-0e82-46ed-d1f1-857a9fe40449"
   },
   "outputs": [],
   "source": [
    "df['FastCharge_KmH'].mean()"
   ]
  },
  {
   "cell_type": "code",
   "execution_count": null,
   "id": "f6924094",
   "metadata": {
    "id": "f6924094"
   },
   "outputs": [],
   "source": [
    "df['FastCharge_KmH']=df['FastCharge_KmH'].replace(0, 434.56)"
   ]
  },
  {
   "cell_type": "code",
   "execution_count": null,
   "id": "9a5c32cf",
   "metadata": {
    "colab": {
     "base_uri": "https://localhost:8080/"
    },
    "id": "9a5c32cf",
    "outputId": "c0c1fb40-cf59-4b50-9213-e5ae1920470f"
   },
   "outputs": [],
   "source": [
    "df['FastCharge_KmH'].unique()"
   ]
  },
  {
   "cell_type": "markdown",
   "id": "378839cf",
   "metadata": {
    "id": "378839cf"
   },
   "source": [
    "# # # Droping Brand and Model name of Company Because we don't need these features for our analysis"
   ]
  },
  {
   "cell_type": "code",
   "execution_count": null,
   "id": "a3c4771b",
   "metadata": {
    "id": "a3c4771b"
   },
   "outputs": [],
   "source": [
    "df=df.drop(['Brand','Model'],axis=1)"
   ]
  },
  {
   "cell_type": "code",
   "execution_count": null,
   "id": "80d79ee3",
   "metadata": {
    "colab": {
     "base_uri": "https://localhost:8080/",
     "height": 424
    },
    "id": "80d79ee3",
    "outputId": "f337214c-65d7-47d1-9d75-7eb166ed8d1b"
   },
   "outputs": [],
   "source": [
    "df"
   ]
  },
  {
   "cell_type": "markdown",
   "id": "6a1f96df",
   "metadata": {
    "id": "6a1f96df"
   },
   "source": [
    "# EDA"
   ]
  },
  {
   "cell_type": "code",
   "execution_count": null,
   "id": "9707b0ac",
   "metadata": {
    "colab": {
     "base_uri": "https://localhost:8080/",
     "height": 1000
    },
    "id": "9707b0ac",
    "outputId": "0c5f2694-175c-42b7-fdaa-53f2af058999"
   },
   "outputs": [],
   "source": [
    "#Create a distribution plot for rating\n",
    "sns.pairplot(df)\n",
    "plt.show()"
   ]
  },
  {
   "cell_type": "code",
   "execution_count": null,
   "id": "825ace3e",
   "metadata": {
    "colab": {
     "base_uri": "https://localhost:8080/",
     "height": 411
    },
    "id": "825ace3e",
    "outputId": "b93e8d20-1834-4dfa-e731-6d821f7e5ef8"
   },
   "outputs": [],
   "source": [
    "#Plotting a pie chart\n",
    "plt.figure(figsize=[9,7])\n",
    "df['RapidCharge'].value_counts().plot.pie(autopct='%.0f%%')\n",
    "plt.show()"
   ]
  },
  {
   "cell_type": "code",
   "execution_count": null,
   "id": "c287098b",
   "metadata": {
    "colab": {
     "base_uri": "https://localhost:8080/",
     "height": 411
    },
    "id": "c287098b",
    "outputId": "2495524a-ef38-42f7-cde1-3379dfe347d9"
   },
   "outputs": [],
   "source": [
    "#Plotting a pie chart\n",
    "plt.figure(figsize=[9,7])\n",
    "df['Segment'].value_counts().plot.pie(autopct='%.0f%%')\n",
    "plt.show()"
   ]
  },
  {
   "cell_type": "code",
   "execution_count": null,
   "id": "d1a48ef1",
   "metadata": {
    "colab": {
     "base_uri": "https://localhost:8080/",
     "height": 411
    },
    "id": "d1a48ef1",
    "outputId": "e422c2c7-e8c0-4621-bbcd-7d084a4fa268"
   },
   "outputs": [],
   "source": [
    "#Plotting a pie chart\n",
    "plt.figure(figsize=[9,7])\n",
    "df['PlugType'].value_counts().plot.pie(autopct='%.0f%%')\n",
    "plt.show()"
   ]
  },
  {
   "cell_type": "code",
   "execution_count": null,
   "id": "AP8D9_sCn9jW",
   "metadata": {
    "colab": {
     "base_uri": "https://localhost:8080/",
     "height": 543
    },
    "id": "AP8D9_sCn9jW",
    "outputId": "a025e995-b88e-4929-cb87-3b8127231bab"
   },
   "outputs": [],
   "source": [
    "sns.boxplot(x=df['TopSpeed_KmH'])\n",
    "plt.show()\n",
    "def convert(x):\n",
    "     if x<160:\n",
    "       return \"Low\"\n",
    "     elif x>=160 and x<190:\n",
    "       return \"Medium\"\n",
    "     else:\n",
    "       return \"High\"\n",
    "converted_TopSpeed=df['TopSpeed_KmH'].apply(convert)\n",
    "sns.countplot(x=converted_TopSpeed)\n",
    "plt.show()"
   ]
  },
  {
   "cell_type": "code",
   "execution_count": null,
   "id": "wGH8p-kB4WCC",
   "metadata": {
    "colab": {
     "base_uri": "https://localhost:8080/",
     "height": 598
    },
    "id": "wGH8p-kB4WCC",
    "outputId": "2c767a07-c680-46c7-fe16-5e7eabcb7842"
   },
   "outputs": [],
   "source": [
    "sns.boxplot(x=df['Range_Km'])\n",
    "plt.show()\n",
    "def convert1(x):\n",
    "     if x<250:\n",
    "       return \"Low\"\n",
    "     elif x>=250 and x<400:\n",
    "       return \"Medium\"\n",
    "     else:\n",
    "       return \"High\"\n",
    "converted_Range=df['Range_Km'].apply(convert1)\n",
    "sns.countplot(converted_Range)\n",
    "plt.show()"
   ]
  },
  {
   "cell_type": "code",
   "execution_count": null,
   "id": "SeKUTaP05a1c",
   "metadata": {
    "colab": {
     "base_uri": "https://localhost:8080/",
     "height": 598
    },
    "id": "SeKUTaP05a1c",
    "outputId": "b7192391-131c-45bb-8292-a1a2fcb79a56"
   },
   "outputs": [],
   "source": [
    "sns.boxplot(x=df['Efficiency_WhKm'])\n",
    "plt.show()\n",
    "def convert2(x):\n",
    "     if x<170:\n",
    "       return \"Low\"\n",
    "     elif x>=170 and x<200:\n",
    "       return \"Medium\"\n",
    "     else:\n",
    "       return \"High\"\n",
    "converted_Eff=df['Efficiency_WhKm'].apply(convert2)\n",
    "sns.countplot(converted_Eff)\n",
    "plt.show()"
   ]
  },
  {
   "cell_type": "code",
   "execution_count": null,
   "id": "8-wgt-Py6Tzu",
   "metadata": {
    "colab": {
     "base_uri": "https://localhost:8080/",
     "height": 596
    },
    "id": "8-wgt-Py6Tzu",
    "outputId": "a2751d00-c107-4a16-a1d0-b87734bb01dc"
   },
   "outputs": [],
   "source": [
    "sns.boxplot(x=df['AccelSec'])\n",
    "plt.show()\n",
    "def convert3(x):\n",
    "     if x<6:\n",
    "       return \"Low\"\n",
    "     elif x>=6 and x<8:\n",
    "       return \"Medium\"\n",
    "     else:\n",
    "       return \"High\"\n",
    "converted_Acc=df['AccelSec'].apply(convert3)\n",
    "sns.countplot(converted_Acc)\n",
    "plt.show()"
   ]
  },
  {
   "cell_type": "code",
   "execution_count": null,
   "id": "fb8b11c9",
   "metadata": {
    "colab": {
     "base_uri": "https://localhost:8080/"
    },
    "id": "fb8b11c9",
    "outputId": "73caaec2-d7ba-4027-8ee3-4170f25dec33"
   },
   "outputs": [],
   "source": [
    "df['PlugType'].value_counts()"
   ]
  },
  {
   "cell_type": "code",
   "execution_count": null,
   "id": "6b53413a",
   "metadata": {
    "colab": {
     "base_uri": "https://localhost:8080/"
    },
    "id": "6b53413a",
    "outputId": "1468191a-1da2-4226-c2bc-c5f9238687eb"
   },
   "outputs": [],
   "source": [
    "df['RapidCharge'].value_counts()"
   ]
  },
  {
   "cell_type": "markdown",
   "id": "34224c73",
   "metadata": {
    "id": "34224c73"
   },
   "source": [
    "# Since PlugType and RapidCharge are imbalanced attributes we drop these attributes"
   ]
  },
  {
   "cell_type": "code",
   "execution_count": null,
   "id": "b3aeed12",
   "metadata": {
    "id": "b3aeed12"
   },
   "outputs": [],
   "source": [
    "from sklearn.preprocessing import OrdinalEncoder"
   ]
  },
  {
   "cell_type": "code",
   "execution_count": null,
   "id": "fe7f6375",
   "metadata": {
    "id": "fe7f6375"
   },
   "outputs": [],
   "source": [
    "\n",
    "oe2=OrdinalEncoder(categories=[['AWD', 'RWD', 'FWD']])\n",
    "oe4=OrdinalEncoder(categories=[['Sedan', 'Hatchback', 'Liftback', 'SUV', 'Pickup', 'MPV', 'Cabrio','SPV', 'Station']])\n",
    "oe5=OrdinalEncoder(categories=[['D', 'C', 'B', 'F', 'A', 'E', 'N', 'S']])"
   ]
  },
  {
   "cell_type": "code",
   "execution_count": null,
   "id": "79a87763",
   "metadata": {
    "id": "79a87763"
   },
   "outputs": [],
   "source": [
    "\n",
    "#df['PowerTrain']=oe2.fit_transform(df[['PowerTrain']])\n",
    "#df['BodyStyle']=oe4.fit_transform(df[['BodyStyle']])\n",
    "#df['Segment']=oe5.fit_transform(df[['Segment']])"
   ]
  },
  {
   "cell_type": "code",
   "execution_count": null,
   "id": "460704e9",
   "metadata": {
    "id": "460704e9"
   },
   "outputs": [],
   "source": [
    "df = df.drop(columns=['RapidCharge','PlugType'])"
   ]
  },
  {
   "cell_type": "code",
   "execution_count": null,
   "id": "e1U3vLIkzuiM",
   "metadata": {
    "colab": {
     "base_uri": "https://localhost:8080/",
     "height": 488
    },
    "id": "e1U3vLIkzuiM",
    "outputId": "13a79827-854e-47db-c9e6-e94e6fc81b3e"
   },
   "outputs": [],
   "source": [
    "df = pd.get_dummies(df)\n",
    "df"
   ]
  },
  {
   "cell_type": "code",
   "execution_count": null,
   "id": "WDQMyeQtzuON",
   "metadata": {
    "id": "WDQMyeQtzuON"
   },
   "outputs": [],
   "source": []
  },
  {
   "cell_type": "code",
   "execution_count": null,
   "id": "f7001b52",
   "metadata": {
    "colab": {
     "base_uri": "https://localhost:8080/"
    },
    "id": "f7001b52",
    "outputId": "8c01faef-8f99-4026-8193-fc7cc80c616d"
   },
   "outputs": [],
   "source": [
    "df.info()"
   ]
  },
  {
   "cell_type": "code",
   "execution_count": null,
   "id": "b5f4875e",
   "metadata": {
    "colab": {
     "base_uri": "https://localhost:8080/",
     "height": 488
    },
    "id": "b5f4875e",
    "outputId": "d20f70fa-48d8-4017-debc-852bb2013586"
   },
   "outputs": [],
   "source": [
    "df"
   ]
  },
  {
   "cell_type": "code",
   "execution_count": null,
   "id": "37b8aff9",
   "metadata": {
    "id": "37b8aff9"
   },
   "outputs": [],
   "source": [
    "df=df.astype(float)"
   ]
  },
  {
   "cell_type": "code",
   "execution_count": null,
   "id": "841dba5c",
   "metadata": {
    "colab": {
     "base_uri": "https://localhost:8080/"
    },
    "id": "841dba5c",
    "outputId": "0275c142-c4ab-4949-fa33-2975c0ee439b"
   },
   "outputs": [],
   "source": [
    "df.info()"
   ]
  },
  {
   "cell_type": "code",
   "execution_count": null,
   "id": "04f015e8",
   "metadata": {
    "id": "04f015e8"
   },
   "outputs": [],
   "source": [
    "cols_to_norm = ['AccelSec','TopSpeed_KmH','Range_Km','Efficiency_WhKm','FastCharge_KmH','PriceEuro']\n",
    "df_prev=df.copy()\n",
    "df[cols_to_norm] = df[cols_to_norm].apply(lambda x: (x - x.min()) / (x.max() - x.min()))"
   ]
  },
  {
   "cell_type": "code",
   "execution_count": null,
   "id": "c269783a",
   "metadata": {
    "colab": {
     "base_uri": "https://localhost:8080/",
     "height": 488
    },
    "id": "c269783a",
    "outputId": "d8e6d051-70fe-4c03-e616-983cc1992bf8"
   },
   "outputs": [],
   "source": [
    "df"
   ]
  },
  {
   "cell_type": "code",
   "execution_count": null,
   "id": "8610e8d2",
   "metadata": {
    "id": "8610e8d2"
   },
   "outputs": [],
   "source": [
    "from sklearn.cluster import KMeans"
   ]
  },
  {
   "cell_type": "code",
   "execution_count": null,
   "id": "d411f073",
   "metadata": {
    "colab": {
     "base_uri": "https://localhost:8080/",
     "height": 312
    },
    "id": "d411f073",
    "outputId": "50938331-d806-4014-b7c4-edba33e8e01f"
   },
   "outputs": [],
   "source": [
    "wcss=[]\n",
    "for i in range(1,10):\n",
    "    kmeans = KMeans(i)\n",
    "    kmeans.fit(df)\n",
    "    wcss_iter = kmeans.inertia_\n",
    "    wcss.append(wcss_iter)\n",
    "\n",
    "number_clusters = range(1,10)\n",
    "plt.plot(number_clusters,wcss)\n",
    "plt.title('The Elbow title')\n",
    "plt.xlabel('Number of clusters')\n",
    "plt.ylabel('WCSS')"
   ]
  },
  {
   "cell_type": "code",
   "execution_count": null,
   "id": "f5f78b7f",
   "metadata": {
    "colab": {
     "base_uri": "https://localhost:8080/"
    },
    "id": "f5f78b7f",
    "outputId": "76d99c2f-b933-4895-b9cb-ef21c6599ac6"
   },
   "outputs": [],
   "source": [
    "kmeanModel = KMeans(n_clusters=5)\n",
    "kmeanModel.fit(df)"
   ]
  },
  {
   "cell_type": "code",
   "execution_count": null,
   "id": "3f038f96",
   "metadata": {
    "colab": {
     "base_uri": "https://localhost:8080/"
    },
    "id": "3f038f96",
    "outputId": "145a6a90-b941-40a2-ff34-2aa6e17d1773"
   },
   "outputs": [],
   "source": [
    "identified_clusters = kmeanModel.fit_predict(df)\n",
    "identified_clusters"
   ]
  },
  {
   "cell_type": "code",
   "execution_count": null,
   "id": "55f7c387",
   "metadata": {
    "id": "55f7c387"
   },
   "outputs": [],
   "source": [
    "data_with_clusters = df_prev.copy()\n",
    "data_with_clusters['Clusters'] = identified_clusters "
   ]
  },
  {
   "cell_type": "code",
   "execution_count": null,
   "id": "f0a395c8",
   "metadata": {
    "colab": {
     "base_uri": "https://localhost:8080/",
     "height": 488
    },
    "id": "f0a395c8",
    "outputId": "5f02648e-21da-4008-c403-17bb5e47f108"
   },
   "outputs": [],
   "source": [
    "data_with_clusters"
   ]
  },
  {
   "cell_type": "code",
   "execution_count": null,
   "id": "zmW5U5-yLhsC",
   "metadata": {
    "colab": {
     "base_uri": "https://localhost:8080/"
    },
    "id": "zmW5U5-yLhsC",
    "outputId": "1a882b57-ecaa-4e0b-eb3a-1b6f24b7494a"
   },
   "outputs": [],
   "source": [
    "data_with_clusters['Clusters'].value_counts()"
   ]
  },
  {
   "cell_type": "code",
   "execution_count": null,
   "id": "80a6113f",
   "metadata": {
    "id": "80a6113f"
   },
   "outputs": [],
   "source": [
    "Segment_wise_mean=data_with_clusters[['AccelSec','TopSpeed_KmH','Range_Km','Efficiency_WhKm','FastCharge_KmH','PriceEuro','Clusters','Seats']].groupby('Clusters').mean()"
   ]
  },
  {
   "cell_type": "code",
   "execution_count": null,
   "id": "7421b583",
   "metadata": {
    "colab": {
     "base_uri": "https://localhost:8080/",
     "height": 238
    },
    "id": "7421b583",
    "outputId": "d11e894c-e993-45c2-bf9d-52915a12e24e",
    "scrolled": true
   },
   "outputs": [],
   "source": [
    "Segment_wise_mean"
   ]
  },
  {
   "cell_type": "code",
   "execution_count": null,
   "id": "_xbshwb5CpGG",
   "metadata": {
    "colab": {
     "base_uri": "https://localhost:8080/",
     "height": 238
    },
    "id": "_xbshwb5CpGG",
    "outputId": "d5200bce-e299-478d-efb0-7693174141dd"
   },
   "outputs": [],
   "source": [
    "data_with_clusters[['AccelSec','TopSpeed_KmH','Range_Km','Efficiency_WhKm','FastCharge_KmH','PriceEuro','Clusters','Seats']].groupby('Clusters').min()"
   ]
  },
  {
   "cell_type": "code",
   "execution_count": null,
   "id": "vSwPxKIsDXAC",
   "metadata": {
    "colab": {
     "base_uri": "https://localhost:8080/",
     "height": 238
    },
    "id": "vSwPxKIsDXAC",
    "outputId": "2f7730bd-9176-44d7-db88-e325208feeea"
   },
   "outputs": [],
   "source": [
    "data_with_clusters[['AccelSec','TopSpeed_KmH','Range_Km','Efficiency_WhKm','FastCharge_KmH','PriceEuro','Clusters','Seats']].groupby('Clusters').max()"
   ]
  },
  {
   "cell_type": "code",
   "execution_count": null,
   "id": "HjI68l-T8inz",
   "metadata": {
    "id": "HjI68l-T8inz"
   },
   "outputs": [],
   "source": [
    "Segment_wise_sum=data_with_clusters.drop(columns=['AccelSec','TopSpeed_KmH','Range_Km','Efficiency_WhKm','FastCharge_KmH','PriceEuro'],axis=1).groupby('Clusters').sum()"
   ]
  },
  {
   "cell_type": "code",
   "execution_count": null,
   "id": "jntIJVPF8iZn",
   "metadata": {
    "colab": {
     "base_uri": "https://localhost:8080/",
     "height": 331
    },
    "id": "jntIJVPF8iZn",
    "outputId": "6ee6846a-98c4-4a7d-acc7-e137e68e6095"
   },
   "outputs": [],
   "source": [
    "Segment_wise_sum"
   ]
  },
  {
   "cell_type": "code",
   "execution_count": null,
   "id": "69d6ce05",
   "metadata": {},
   "outputs": [],
   "source": []
  },
  {
   "cell_type": "code",
   "execution_count": null,
   "id": "8feb8058",
   "metadata": {},
   "outputs": [],
   "source": []
  }
 ],
 "metadata": {
  "colab": {
   "collapsed_sections": [],
   "name": "FINAL_EV_FILE_(1) (1).ipynb",
   "provenance": []
  },
  "kernelspec": {
   "display_name": "Python 3 (ipykernel)",
   "language": "python",
   "name": "python3"
  },
  "language_info": {
   "codemirror_mode": {
    "name": "ipython",
    "version": 3
   },
   "file_extension": ".py",
   "mimetype": "text/x-python",
   "name": "python",
   "nbconvert_exporter": "python",
   "pygments_lexer": "ipython3",
   "version": "3.9.7"
  }
 },
 "nbformat": 4,
 "nbformat_minor": 5
}
